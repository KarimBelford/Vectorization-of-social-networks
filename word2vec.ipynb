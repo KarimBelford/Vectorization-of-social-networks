{
 "cells": [
  {
   "cell_type": "markdown",
   "metadata": {},
   "source": [
    "# Word embeddings with Gensim using sentences from Wikipedia.\n",
    "We will be using sentences from Wikipedia as our text corpus. It contains a collection of 7.8 million sentences from the August 2018 English Wikipedia dump.\n",
    "\n",
    "You can find the dataset here: https://www.kaggle.com/mikeortman/wikipedia-sentences"
   ]
  },
  {
   "cell_type": "code",
   "execution_count": 149,
   "metadata": {},
   "outputs": [],
   "source": [
    "# Libraries to tokenize sentences\n",
    "import string\n",
    "from nltk.corpus import stopwords\n",
    "from nltk.tokenize import word_tokenize\n",
    "\n",
    "#Word2Vec\n",
    "from gensim.models import Word2Vec\n",
    "from gensim.models import KeyedVectors\n",
    "\n",
    "#Data visualization\n",
    "import seaborn as sns\n",
    "import matplotlib as mpl\n",
    "%matplotlib inline\n",
    "mpl.rcParams['figure.figsize'] = 9, 7\n",
    "\n",
    "#Reduce dimensionality of word embeddings for visualization\n",
    "from sklearn.decomposition import PCA\n"
   ]
  },
  {
   "cell_type": "markdown",
   "metadata": {},
   "source": [
    "Here we tokenize the data and clean all punctuation and stop words(e.g. 'the', 'is', 'that', etc) from the data set. Then we train the model. We need to do this because Word2Vec only accepts lists of tokenized sentences, while also filtering useless contextual words. This process takes roughly 15 minutes."
   ]
  },
  {
   "cell_type": "code",
   "execution_count": 38,
   "metadata": {},
   "outputs": [],
   "source": [
    "filepath = 'data/wikisent2.txt'\n",
    "filteredWords = set(stopwords.words('english') + list(string.punctuation))\n",
    "\n",
    "#Read the dataset and populate the sentences list with tokenized sentences. \n",
    "sentences = []\n",
    "with open(filepath) as fp:\n",
    "    line = fp.readline()\n",
    "    while line:\n",
    "        wordTokens = word_tokenize(line)\n",
    "        filtered_sentence = [w.lower() for w in wordTokens if not w.lower() in filteredWords]\n",
    "        sentences.append(filtered_sentence)\n",
    "        line = fp.readline()\n",
    "        \n",
    "#Create the model.\n",
    "model = Word2Vec(sentences=sentences, vector_size=100, window=5, min_count=5, workers=10)\n",
    "\n",
    "#Save model for future use.\n",
    "model.wv.save_word2vec_format('wikisent2.bin', binary=True)"
   ]
  },
  {
   "cell_type": "code",
   "execution_count": 40,
   "metadata": {},
   "outputs": [],
   "source": [
    "#Load the previously created model.\n",
    "model = KeyedVectors.load_word2vec_format('wikisent2.bin', binary=True)"
   ]
  },
  {
   "cell_type": "markdown",
   "metadata": {},
   "source": [
    "Let's test out our model by finding words used in similar context. "
   ]
  },
  {
   "cell_type": "code",
   "execution_count": 80,
   "metadata": {},
   "outputs": [
    {
     "data": {
      "text/plain": [
       "[('mappings', 0.8207345604896545),\n",
       " ('parsing', 0.8091320991516113),\n",
       " ('multi-dimensional', 0.8022617101669312),\n",
       " ('encapsulation', 0.7978992462158203),\n",
       " ('user-defined', 0.7904070019721985),\n",
       " ('abstraction', 0.7859013080596924),\n",
       " ('parallelism', 0.7827283143997192),\n",
       " ('segmentation', 0.7815800905227661),\n",
       " ('partitioning', 0.7786532044410706),\n",
       " ('specifying', 0.7780011892318726)]"
      ]
     },
     "execution_count": 80,
     "metadata": {},
     "output_type": "execute_result"
    }
   ],
   "source": [
    "model.most_similar('embedding')"
   ]
  },
  {
   "cell_type": "code",
   "execution_count": 81,
   "metadata": {},
   "outputs": [
    {
     "data": {
      "text/plain": [
       "[('onions', 0.9284669756889343),\n",
       " ('cloves', 0.9196341633796692),\n",
       " ('almonds', 0.9161800742149353),\n",
       " ('carrots', 0.9101073741912842),\n",
       " ('walnuts', 0.9100131988525391),\n",
       " ('cinnamon', 0.9082777500152588),\n",
       " ('celery', 0.9073613882064819),\n",
       " ('currants', 0.9062420725822449),\n",
       " ('leeks', 0.9011278748512268),\n",
       " ('coriander', 0.8972013592720032)]"
      ]
     },
     "execution_count": 81,
     "metadata": {},
     "output_type": "execute_result"
    }
   ],
   "source": [
    "model.most_similar('garlic')"
   ]
  },
  {
   "cell_type": "code",
   "execution_count": 82,
   "metadata": {},
   "outputs": [
    {
     "data": {
      "text/plain": [
       "[('college', 0.7451135516166687),\n",
       " ('asu', 0.6928170919418335),\n",
       " ('institute', 0.665592610836029),\n",
       " ('polytechnic', 0.6419583559036255),\n",
       " ('faculty', 0.6391634941101074),\n",
       " ('graduate', 0.5971936583518982),\n",
       " ('campus', 0.5937646627426147),\n",
       " ('nyu', 0.5829755663871765),\n",
       " ('uab', 0.5821531414985657),\n",
       " ('usu', 0.5818154215812683)]"
      ]
     },
     "execution_count": 82,
     "metadata": {},
     "output_type": "execute_result"
    }
   ],
   "source": [
    "model.most_similar('university')"
   ]
  },
  {
   "cell_type": "code",
   "execution_count": 83,
   "metadata": {},
   "outputs": [
    {
     "data": {
      "text/plain": [
       "[('valor', 0.6638562679290771),\n",
       " ('bravery', 0.6172094345092773),\n",
       " ('recipient', 0.6163497567176819),\n",
       " ('honors', 0.6139286160469055),\n",
       " ('gallantry', 0.612633228302002),\n",
       " ('award', 0.6007881164550781),\n",
       " ('dedication', 0.5870120525360107),\n",
       " ('commendation', 0.5843425989151001),\n",
       " ('meritorious', 0.5829532742500305),\n",
       " ('heroism', 0.5778750777244568)]"
      ]
     },
     "execution_count": 83,
     "metadata": {},
     "output_type": "execute_result"
    }
   ],
   "source": [
    "model.most_similar('honor')"
   ]
  },
  {
   "cell_type": "markdown",
   "metadata": {},
   "source": [
    "The most popular word embedding result shown below:\n",
    "\n",
    "King + Woman - Man = Queen "
   ]
  },
  {
   "cell_type": "code",
   "execution_count": 84,
   "metadata": {},
   "outputs": [
    {
     "name": "stdout",
     "output_type": "stream",
     "text": [
      "('queen', 0.6748989224433899)\n"
     ]
    }
   ],
   "source": [
    "result = model.most_similar(positive=['woman', 'king'], negative=['man'])\n",
    "print(result[0])"
   ]
  },
  {
   "cell_type": "markdown",
   "metadata": {},
   "source": [
    "# Analogies\n",
    "We can use the Word2Vec to discover analogies. For example, Japan is to Japanese as Australia is to Australian."
   ]
  },
  {
   "cell_type": "code",
   "execution_count": 85,
   "metadata": {},
   "outputs": [],
   "source": [
    "def analogy(x1, x2, y1):\n",
    "    result = model.most_similar(positive=[y1, x2], negative=[x1])\n",
    "    return result[0][0]"
   ]
  },
  {
   "cell_type": "code",
   "execution_count": 86,
   "metadata": {},
   "outputs": [
    {
     "data": {
      "text/plain": [
       "'australian'"
      ]
     },
     "execution_count": 86,
     "metadata": {},
     "output_type": "execute_result"
    }
   ],
   "source": [
    "analogy('japan', 'japanese', 'australia')"
   ]
  },
  {
   "cell_type": "code",
   "execution_count": 87,
   "metadata": {},
   "outputs": [
    {
     "data": {
      "text/plain": [
       "'cheese'"
      ]
     },
     "execution_count": 87,
     "metadata": {},
     "output_type": "execute_result"
    }
   ],
   "source": [
    "analogy('australia', 'beer', 'france')"
   ]
  },
  {
   "cell_type": "code",
   "execution_count": 88,
   "metadata": {},
   "outputs": [
    {
     "data": {
      "text/plain": [
       "'nixon'"
      ]
     },
     "execution_count": 88,
     "metadata": {},
     "output_type": "execute_result"
    }
   ],
   "source": [
    "analogy('obama', 'clinton', 'reagan')"
   ]
  },
  {
   "cell_type": "code",
   "execution_count": 89,
   "metadata": {},
   "outputs": [
    {
     "data": {
      "text/plain": [
       "'longest'"
      ]
     },
     "execution_count": 89,
     "metadata": {},
     "output_type": "execute_result"
    }
   ],
   "source": [
    "analogy('tall', 'tallest', 'long')"
   ]
  },
  {
   "cell_type": "code",
   "execution_count": 90,
   "metadata": {},
   "outputs": [
    {
     "data": {
      "text/plain": [
       "'canada'"
      ]
     },
     "execution_count": 90,
     "metadata": {},
     "output_type": "execute_result"
    }
   ],
   "source": [
    "analogy('berlin', 'germany', 'ottawa')"
   ]
  },
  {
   "cell_type": "code",
   "execution_count": 91,
   "metadata": {},
   "outputs": [
    {
     "name": "stdout",
     "output_type": "stream",
     "text": [
      "cereal\n"
     ]
    }
   ],
   "source": [
    "print(model.doesnt_match(\"breakfast cereal dinner lunch\".split()))"
   ]
  },
  {
   "cell_type": "markdown",
   "metadata": {},
   "source": [
    "# Visualization of Embeddings\n",
    "Our word embeddings have a dimension of 100, but we can apply Principal Component Analysis (PCA) to reduce the dimensionality to two so that we may create visualizations in two-dimensional space."
   ]
  },
  {
   "cell_type": "code",
   "execution_count": 150,
   "metadata": {},
   "outputs": [],
   "source": [
    "def displayPCAscatterplot(model, words):\n",
    "    wordVectors = [model[w] for w in words]\n",
    "    twoDim = PCA().fit_transform(wordVectors)[:,:2]\n",
    "\n",
    "    plot = sns.scatterplot(x = twoDim[:, 0], y = twoDim[:, 1])\n",
    "    for word, (x,y) in zip(words, twoDim):\n",
    "        plot.text(x+.02, y, str(word))"
   ]
  },
  {
   "cell_type": "code",
   "execution_count": 151,
   "metadata": {},
   "outputs": [
    {
     "data": {
      "image/png": "[encoded data removed]",
      "text/plain": [
       "<Figure size 648x504 with 1 Axes>"
      ]
     },
     "metadata": {
      "needs_background": "light"
     },
     "output_type": "display_data"
    }
   ],
   "source": [
    "words = ['coffee', 'tea', 'beer', 'wine', 'brandy', 'rum', 'champagne', 'water', \n",
    "          'pizza',  'sushi', 'meatballs',\n",
    "         'france', 'germany', 'hungary', 'luxembourg', 'australia', 'china', 'berlin', 'beijing', 'paris',\n",
    "         'homework', 'assignment', 'problem', 'exam', 'test', 'class',\n",
    "         'school', 'college', 'university', 'institute'\n",
    "        ]\n",
    "\n",
    "displayPCAscatterplot(model, words)"
   ]
  },
  {
   "cell_type": "code",
   "execution_count": null,
   "metadata": {},
   "outputs": [],
   "source": []
  }
 ],
 "metadata": {
  "kernelspec": {
   "display_name": "Python 3 (ipykernel)",
   "language": "python",
   "name": "python3"
  },
  "language_info": {
   "codemirror_mode": {
    "name": "ipython",
    "version": 3
   },
   "file_extension": ".py",
   "mimetype": "text/x-python",
   "name": "python",
   "nbconvert_exporter": "python",
   "pygments_lexer": "ipython3",
   "version": "3.10.2"
  }
 },
 "nbformat": 4,
 "nbformat_minor": 2
}
